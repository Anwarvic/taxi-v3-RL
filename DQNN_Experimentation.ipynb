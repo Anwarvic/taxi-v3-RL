{
  "nbformat": 4,
  "nbformat_minor": 0,
  "metadata": {
    "accelerator": "GPU",
    "colab": {
      "name": "DQNN-Experimentation.ipynb",
      "provenance": []
    },
    "kernelspec": {
      "display_name": "Python 3",
      "name": "python3"
    },
    "language_info": {
      "name": "python"
    }
  },
  "cells": [
    {
      "cell_type": "code",
      "metadata": {
        "colab": {
          "base_uri": "https://localhost:8080/"
        },
        "id": "q6u3T3CkxhNM",
        "outputId": "ef9a797d-0d10-43ac-92f7-dc785dfa6de0"
      },
      "source": [
        "!pip install gym"
      ],
      "execution_count": null,
      "outputs": [
        {
          "name": "stdout",
          "output_type": "stream",
          "text": [
            "Requirement already satisfied: gym in /usr/local/lib/python3.7/dist-packages (0.17.3)\n",
            "Requirement already satisfied: scipy in /usr/local/lib/python3.7/dist-packages (from gym) (1.4.1)\n",
            "Requirement already satisfied: cloudpickle<1.7.0,>=1.2.0 in /usr/local/lib/python3.7/dist-packages (from gym) (1.3.0)\n",
            "Requirement already satisfied: numpy>=1.10.4 in /usr/local/lib/python3.7/dist-packages (from gym) (1.19.5)\n",
            "Requirement already satisfied: pyglet<=1.5.0,>=1.4.0 in /usr/local/lib/python3.7/dist-packages (from gym) (1.5.0)\n",
            "Requirement already satisfied: future in /usr/local/lib/python3.7/dist-packages (from pyglet<=1.5.0,>=1.4.0->gym) (0.16.0)\n"
          ]
        }
      ]
    },
    {
      "cell_type": "code",
      "metadata": {
        "colab": {
          "base_uri": "https://localhost:8080/"
        },
        "id": "fJmcfABgxrRv",
        "outputId": "034d0b3b-4f02-4f4f-ef03-a57e2524420a"
      },
      "source": [
        "!pyyaml"
      ],
      "execution_count": null,
      "outputs": [
        {
          "name": "stdout",
          "output_type": "stream",
          "text": [
            "/bin/bash: pyyaml: command not found\n"
          ]
        }
      ]
    },
    {
      "cell_type": "code",
      "metadata": {
        "id": "GQdKSPUXxzzO"
      },
      "source": [
        "import torch\n",
        "from torch import nn\n",
        "import gym\n",
        "import random\n",
        "from collections import deque\n",
        "import os\n",
        "import torch.optim as optim\n",
        "import torch.nn.functional as F\n",
        "import numpy as np"
      ],
      "execution_count": null,
      "outputs": []
    },
    {
      "cell_type": "code",
      "metadata": {
        "id": "Q12fTG4Ox3co"
      },
      "source": [
        "def modelQnn(env_shape, action_shape):\n",
        "\n",
        "    return nn.Sequential(\n",
        "        nn.Embedding(env_shape, 300),\n",
        "        nn.Linear(300,300),\n",
        "        nn.ReLU(),\n",
        "        nn.Linear(300, 256),\n",
        "        nn.ReLU(),\n",
        "        nn.Linear(256,64),\n",
        "        nn.ReLU(),\n",
        "        nn.Linear(64, action_shape)\n",
        "    )"
      ],
      "execution_count": null,
      "outputs": []
    },
    {
      "cell_type": "code",
      "metadata": {
        "id": "mZ27z9JBx56v"
      },
      "source": [
        "class DQN:\n",
        "    def __init__(self, env, conf):\n",
        "        self.env = env\n",
        "        self.state_size = self.env.observation_space.n\n",
        "        self.action_size = self.env.action_space.n\n",
        "        self.num_episodes = conf[\"num_episodes\"]\n",
        "        self.memory = deque(maxlen=3000)\n",
        "\n",
        "        self.gamma = conf[\"gamma\"]\n",
        "        self.epsilon = conf[\"epsilon\"]\n",
        "        self.epsilon_min = conf['epsilon_min']\n",
        "        self.epsilon_decay = conf[\"epsilon_decay\"]\n",
        "        self.batch_size = conf[\"batch_size\"]\n",
        "        self.train_start = conf[\"train_start\"]\n",
        "        self.lr = conf[\"lr\"]\n",
        "        self.model = modelQnn(self.state_size, self.action_size)\n",
        "        self.target_model = modelQnn(self.state_size, self.action_size)\n",
        "        self.episode_durations = []\n",
        "        self.reward_in_episode = []\n",
        "        self.epsilon_vec = []\n",
        "        self.loss = None\n",
        "        self.last_step = 0\n",
        "        self.last_episode = 0\n",
        "\n",
        "    def select_action(self, state):\n",
        "        if random.random() > self.epsilon:\n",
        "            return self.model(torch.tensor([state])).max(1)[1].item()\n",
        "        else:\n",
        "            return self.env.action_space.sample()\n",
        "\n",
        "    def memories(self,state, action, reward, next_state, done):\n",
        "        \"\"\"\n",
        "        Store past experience need for taining\n",
        "        \"\"\"\n",
        "        self.memory.append((state, action, reward, next_state, done))\n",
        "        if len(self.memory) > self.train_start:\n",
        "            if self.epsilon > self.epsilon_min:\n",
        "                self.epsilon *= self.epsilon_decay\n",
        "\n",
        "    def one_hot(self, state):\n",
        "        one_hot = torch.zeros(self.state_size)\n",
        "        one_hot[state] = 1\n",
        "        return one_hot\n",
        "\n",
        "    def replay(self):\n",
        "        \"\"\"\n",
        "        Select from memories and then train the model\n",
        "        \"\"\"\n",
        "\n",
        "        if len(self.memory) < self.train_start:\n",
        "            return\n",
        "\n",
        "        minibatch =  random.sample(self.memory, min(len(self.memory), self.batch_size))\n",
        "        \n",
        "        state = torch.zeros((self.batch_size, self.state_size))\n",
        "        next_state = torch.zeros((self.batch_size, self.state_size))\n",
        "        action, reward, done = [], [], []\n",
        "\n",
        "        for i in range(self.batch_size):\n",
        "            state[i] = minibatch[i][0]\n",
        "            action.append(minibatch[i][1])\n",
        "            reward.append(minibatch[i][2])\n",
        "            next_state[i] = minibatch[i][3]\n",
        "            done.append(minibatch[i][4])\n",
        "        \n",
        "        action = torch.tensor(action)\n",
        "        reward = torch.tensor(reward)\n",
        "        done = torch.tensor(done)\n",
        "        predicted_q_value = self.model(state.long()).max(1)[0]\n",
        "        next_state_values= self.target_model(next_state.long()).max(1)[0]\n",
        "        expected_q_value = (done[...,None] *next_state_values * self.gamma) + reward[...,None]\n",
        "        \n",
        "        loss = self.loss(predicted_q_value, expected_q_value)\n",
        "\n",
        "        self.optim.zero_grad()\n",
        "        loss.backward()\n",
        "        for param in self.model.parameters():\n",
        "            param.grad.data.clamp_(-1, 1)\n",
        "        self.optim.step()\n",
        "\n",
        "    def run(self):\n",
        "      self.optim = optim.Adam(self.model.parameters(), lr=self.lr)\n",
        "      self.loss = F.mse_loss\n",
        "      self.episode_durations = []\n",
        "      self.reward_in_episode = []\n",
        "      self.epsilon_vec = []\n",
        "      reward_in_episode = 0\n",
        "      \n",
        "      for e in range(self.num_episodes):\n",
        "        reward_episode = 0\n",
        "        state = self.env.reset()\n",
        "        done = False\n",
        "        i = 0\n",
        "        while not done:\n",
        "          action = self.select_action(state)\n",
        "          next_state, reward, done, _ = env.step(action)\n",
        "          self.memories(state, action, reward, next_state, done)\n",
        "          if not done or i == self.env._max_episode_steps-1:\n",
        "            self.replay()\n",
        "\n",
        "          state = next_state\n",
        "          reward_in_episode +=reward\n",
        "          i +=1\n",
        "          if done:\n",
        "            self.episode_durations.append(i)\n",
        "            self.reward_in_episode.append(reward_in_episode)\n",
        "            self.epsilon_vec.append(self.epsilon)\n",
        "            reward_in_episode = 0\n",
        "            N = min(10, len(self.episode_durations))\n",
        "            print(f\"reward {np.mean(self.reward_in_episode[-N:])}, \\\n",
        "                  steps: {np.mean(self.episode_durations[-N:])}, \\\n",
        "                  epsilon: {self.epsilon}\")\n",
        "          \n",
        "          \n",
        "          # self.replay()\n",
        "\n",
        "    "
      ],
      "execution_count": null,
      "outputs": []
    },
    {
      "cell_type": "code",
      "metadata": {
        "id": "X1_dmOaBYDNs"
      },
      "source": [
        "conf ={\n",
        "    \"num_episodes\": 1000,\n",
        "    \"gamma\" : 0.95,\n",
        "    \"epsilon\" : 1.0,\n",
        "    \"epsilon_min\" : 0.001,\n",
        "    \"epsilon_decay\" : 0.999,\n",
        "    \"batch_size\" : 64,\n",
        "    \"train_start\" : 1000,\n",
        "    \"lr\": 0.01\n",
        "}\n",
        "\n",
        "env = gym.make('Taxi-v3')\n",
        "agent = DQN(env, conf)"
      ],
      "execution_count": null,
      "outputs": []
    },
    {
      "cell_type": "code",
      "metadata": {
        "colab": {
          "base_uri": "https://localhost:8080/",
          "height": 1000
        },
        "id": "uq_TqHAKYtER",
        "outputId": "b2efed6d-91a2-4d21-c2d4-91277e2f33b5"
      },
      "source": [
        "agent.run()"
      ],
      "execution_count": 112,
      "outputs": [
        {
          "metadata": {
            "tags": null
          },
          "name": "stdout",
          "output_type": "stream",
          "text": [
            "reward -641.0,                   steps: 200.0,                   epsilon: 1.0\n",
            "reward -713.0,                   steps: 200.0,                   epsilon: 1.0\n",
            "reward -713.0,                   steps: 200.0,                   epsilon: 1.0\n",
            "reward -715.25,                   steps: 200.0,                   epsilon: 1.0\n",
            "reward -722.0,                   steps: 200.0,                   epsilon: 1.0\n",
            "reward -738.5,                   steps: 200.0,                   epsilon: 0.818648829478636\n",
            "reward -737.4285714285714,                   steps: 200.0,                   epsilon: 0.6701859060067403\n",
            "reward -742.25,                   steps: 200.0,                   epsilon: 0.5486469074854965\n",
            "reward -721.0,                   steps: 200.0,                   epsilon: 0.4491491486100748\n",
            "reward -717.5,                   steps: 200.0,                   epsilon: 0.3676954247709635\n",
            "reward -707.6,                   steps: 200.0,                   epsilon: 0.3010134290933992\n",
            "reward -691.4,                   steps: 200.0,                   epsilon: 0.24642429138466176\n",
            "reward -653.6,                   steps: 200.0,                   epsilon: 0.20173495769715546\n",
            "reward -632.0,                   steps: 200.0,                   epsilon: 0.1651500869836984\n",
            "reward -629.3,                   steps: 200.0,                   epsilon: 0.1351999253974994\n",
            "reward -660.8,                   steps: 200.0,                   epsilon: 0.11068126067226178\n",
            "reward -706.7,                   steps: 200.0,                   epsilon: 0.09060908449456685\n",
            "reward -685.1,                   steps: 200.0,                   epsilon: 0.07417702096160789\n",
            "reward -725.6,                   steps: 200.0,                   epsilon: 0.06072493138443261\n",
            "reward -758.0,                   steps: 200.0,                   epsilon: 0.04971239399803625\n",
            "reward -846.2,                   steps: 200.0,                   epsilon: 0.04069699315707315\n",
            "reward -904.7,                   steps: 200.0,                   epsilon: 0.03331654581133795\n",
            "reward -1019.0,                   steps: 200.0,                   epsilon: 0.027274551230723157\n",
            "reward -1066.7,                   steps: 200.0,                   epsilon: 0.022328279439586606\n",
            "reward -1076.6,                   steps: 200.0,                   epsilon: 0.018279019827489446\n",
            "reward -1126.1,                   steps: 200.0,                   epsilon: 0.014964098185791003\n",
            "reward -1140.5,                   steps: 200.0,                   epsilon: 0.012250341464001188\n",
            "reward -1180.1,                   steps: 200.0,                   epsilon: 0.010028727700218176\n",
            "reward -1157.6,                   steps: 200.0,                   epsilon: 0.008210006192943578\n",
            "reward -1147.7,                   steps: 200.0,                   epsilon: 0.006721111959865607\n",
            "reward -1204.4,                   steps: 200.0,                   epsilon: 0.00550223043873884\n",
            "reward -1173.8,                   steps: 200.0,                   epsilon: 0.004504394508195268\n",
            "reward -1172.9,                   steps: 200.0,                   epsilon: 0.003687517291644049\n",
            "reward -1268.3,                   steps: 200.0,                   epsilon: 0.0030187817144866308\n",
            "reward -1386.2,                   steps: 200.0,                   epsilon: 0.00247132211701599\n",
            "reward -1400.6,                   steps: 200.0,                   epsilon: 0.002023144958359803\n",
            "reward -1433.0,                   steps: 200.0,                   epsilon: 0.0016562452520268544\n",
            "reward -1519.4,                   steps: 200.0,                   epsilon: 0.0013558832369013304\n",
            "reward -1634.6,                   steps: 200.0,                   epsilon: 0.0011099922247989763\n",
            "reward -1743.5,                   steps: 200.0,                   epsilon: 0.0009993007201979929\n",
            "reward -1739.0,                   steps: 200.0,                   epsilon: 0.0009993007201979929\n",
            "reward -1847.9,                   steps: 200.0,                   epsilon: 0.0009993007201979929\n",
            "reward -1881.2,                   steps: 200.0,                   epsilon: 0.0009993007201979929\n",
            "reward -1887.5,                   steps: 200.0,                   epsilon: 0.0009993007201979929\n",
            "reward -1886.6,                   steps: 200.0,                   epsilon: 0.0009993007201979929\n",
            "reward -1909.1,                   steps: 200.0,                   epsilon: 0.0009993007201979929\n",
            "reward -1937.9,                   steps: 200.0,                   epsilon: 0.0009993007201979929\n",
            "reward -1955.9,                   steps: 200.0,                   epsilon: 0.0009993007201979929\n",
            "reward -1967.6,                   steps: 200.0,                   epsilon: 0.0009993007201979929\n",
            "reward -1967.6,                   steps: 200.0,                   epsilon: 0.0009993007201979929\n",
            "reward -1972.1,                   steps: 200.0,                   epsilon: 0.0009993007201979929\n",
            "reward -1972.1,                   steps: 200.0,                   epsilon: 0.0009993007201979929\n",
            "reward -1991.9,                   steps: 200.0,                   epsilon: 0.0009993007201979929\n",
            "reward -1988.3,                   steps: 200.0,                   epsilon: 0.0009993007201979929\n",
            "reward -1960.4,                   steps: 200.0,                   epsilon: 0.0009993007201979929\n",
            "reward -1950.5,                   steps: 200.0,                   epsilon: 0.0009993007201979929\n",
            "reward -1802.0,                   steps: 200.0,                   epsilon: 0.0009993007201979929\n",
            "reward -1757.0,                   steps: 200.0,                   epsilon: 0.0009993007201979929\n",
            "reward -1649.0,                   steps: 200.0,                   epsilon: 0.0009993007201979929\n",
            "reward -1546.4,                   steps: 200.0,                   epsilon: 0.0009993007201979929\n",
            "reward -1481.6,                   steps: 200.0,                   epsilon: 0.0009993007201979929\n",
            "reward -1467.2,                   steps: 200.0,                   epsilon: 0.0009993007201979929\n"
          ]
        },
        {
          "output_type": "error",
          "ename": "KeyboardInterrupt",
          "evalue": "ignored",
          "traceback": [
            "\u001b[0;31m---------------------------------------------------------------------------\u001b[0m",
            "\u001b[0;31mKeyboardInterrupt\u001b[0m                         Traceback (most recent call last)",
            "\u001b[0;32m<ipython-input-112-d472833a5209>\u001b[0m in \u001b[0;36m<module>\u001b[0;34m()\u001b[0m\n\u001b[0;32m----> 1\u001b[0;31m \u001b[0magent\u001b[0m\u001b[0;34m.\u001b[0m\u001b[0mrun\u001b[0m\u001b[0;34m(\u001b[0m\u001b[0;34m)\u001b[0m\u001b[0;34m\u001b[0m\u001b[0;34m\u001b[0m\u001b[0m\n\u001b[0m",
            "\u001b[0;32m<ipython-input-110-28366a690a68>\u001b[0m in \u001b[0;36mrun\u001b[0;34m(self)\u001b[0m\n\u001b[1;32m     97\u001b[0m           \u001b[0mself\u001b[0m\u001b[0;34m.\u001b[0m\u001b[0mmemories\u001b[0m\u001b[0;34m(\u001b[0m\u001b[0mstate\u001b[0m\u001b[0;34m,\u001b[0m \u001b[0maction\u001b[0m\u001b[0;34m,\u001b[0m \u001b[0mreward\u001b[0m\u001b[0;34m,\u001b[0m \u001b[0mnext_state\u001b[0m\u001b[0;34m,\u001b[0m \u001b[0mdone\u001b[0m\u001b[0;34m)\u001b[0m\u001b[0;34m\u001b[0m\u001b[0;34m\u001b[0m\u001b[0m\n\u001b[1;32m     98\u001b[0m           \u001b[0;32mif\u001b[0m \u001b[0;32mnot\u001b[0m \u001b[0mdone\u001b[0m \u001b[0;32mor\u001b[0m \u001b[0mi\u001b[0m \u001b[0;34m==\u001b[0m \u001b[0mself\u001b[0m\u001b[0;34m.\u001b[0m\u001b[0menv\u001b[0m\u001b[0;34m.\u001b[0m\u001b[0m_max_episode_steps\u001b[0m\u001b[0;34m-\u001b[0m\u001b[0;36m1\u001b[0m\u001b[0;34m:\u001b[0m\u001b[0;34m\u001b[0m\u001b[0;34m\u001b[0m\u001b[0m\n\u001b[0;32m---> 99\u001b[0;31m             \u001b[0mself\u001b[0m\u001b[0;34m.\u001b[0m\u001b[0mreplay\u001b[0m\u001b[0;34m(\u001b[0m\u001b[0;34m)\u001b[0m\u001b[0;34m\u001b[0m\u001b[0;34m\u001b[0m\u001b[0m\n\u001b[0m\u001b[1;32m    100\u001b[0m \u001b[0;34m\u001b[0m\u001b[0m\n\u001b[1;32m    101\u001b[0m           \u001b[0mstate\u001b[0m \u001b[0;34m=\u001b[0m \u001b[0mnext_state\u001b[0m\u001b[0;34m\u001b[0m\u001b[0;34m\u001b[0m\u001b[0m\n",
            "\u001b[0;32m<ipython-input-110-28366a690a68>\u001b[0m in \u001b[0;36mreplay\u001b[0;34m(self)\u001b[0m\n\u001b[1;32m     74\u001b[0m \u001b[0;34m\u001b[0m\u001b[0m\n\u001b[1;32m     75\u001b[0m         \u001b[0mself\u001b[0m\u001b[0;34m.\u001b[0m\u001b[0moptim\u001b[0m\u001b[0;34m.\u001b[0m\u001b[0mzero_grad\u001b[0m\u001b[0;34m(\u001b[0m\u001b[0;34m)\u001b[0m\u001b[0;34m\u001b[0m\u001b[0;34m\u001b[0m\u001b[0m\n\u001b[0;32m---> 76\u001b[0;31m         \u001b[0mloss\u001b[0m\u001b[0;34m.\u001b[0m\u001b[0mbackward\u001b[0m\u001b[0;34m(\u001b[0m\u001b[0;34m)\u001b[0m\u001b[0;34m\u001b[0m\u001b[0;34m\u001b[0m\u001b[0m\n\u001b[0m\u001b[1;32m     77\u001b[0m         \u001b[0;32mfor\u001b[0m \u001b[0mparam\u001b[0m \u001b[0;32min\u001b[0m \u001b[0mself\u001b[0m\u001b[0;34m.\u001b[0m\u001b[0mmodel\u001b[0m\u001b[0;34m.\u001b[0m\u001b[0mparameters\u001b[0m\u001b[0;34m(\u001b[0m\u001b[0;34m)\u001b[0m\u001b[0;34m:\u001b[0m\u001b[0;34m\u001b[0m\u001b[0;34m\u001b[0m\u001b[0m\n\u001b[1;32m     78\u001b[0m             \u001b[0mparam\u001b[0m\u001b[0;34m.\u001b[0m\u001b[0mgrad\u001b[0m\u001b[0;34m.\u001b[0m\u001b[0mdata\u001b[0m\u001b[0;34m.\u001b[0m\u001b[0mclamp_\u001b[0m\u001b[0;34m(\u001b[0m\u001b[0;34m-\u001b[0m\u001b[0;36m1\u001b[0m\u001b[0;34m,\u001b[0m \u001b[0;36m1\u001b[0m\u001b[0;34m)\u001b[0m\u001b[0;34m\u001b[0m\u001b[0;34m\u001b[0m\u001b[0m\n",
            "\u001b[0;32m/usr/local/lib/python3.7/dist-packages/torch/_tensor.py\u001b[0m in \u001b[0;36mbackward\u001b[0;34m(self, gradient, retain_graph, create_graph, inputs)\u001b[0m\n\u001b[1;32m    253\u001b[0m                 \u001b[0mcreate_graph\u001b[0m\u001b[0;34m=\u001b[0m\u001b[0mcreate_graph\u001b[0m\u001b[0;34m,\u001b[0m\u001b[0;34m\u001b[0m\u001b[0;34m\u001b[0m\u001b[0m\n\u001b[1;32m    254\u001b[0m                 inputs=inputs)\n\u001b[0;32m--> 255\u001b[0;31m         \u001b[0mtorch\u001b[0m\u001b[0;34m.\u001b[0m\u001b[0mautograd\u001b[0m\u001b[0;34m.\u001b[0m\u001b[0mbackward\u001b[0m\u001b[0;34m(\u001b[0m\u001b[0mself\u001b[0m\u001b[0;34m,\u001b[0m \u001b[0mgradient\u001b[0m\u001b[0;34m,\u001b[0m \u001b[0mretain_graph\u001b[0m\u001b[0;34m,\u001b[0m \u001b[0mcreate_graph\u001b[0m\u001b[0;34m,\u001b[0m \u001b[0minputs\u001b[0m\u001b[0;34m=\u001b[0m\u001b[0minputs\u001b[0m\u001b[0;34m)\u001b[0m\u001b[0;34m\u001b[0m\u001b[0;34m\u001b[0m\u001b[0m\n\u001b[0m\u001b[1;32m    256\u001b[0m \u001b[0;34m\u001b[0m\u001b[0m\n\u001b[1;32m    257\u001b[0m     \u001b[0;32mdef\u001b[0m \u001b[0mregister_hook\u001b[0m\u001b[0;34m(\u001b[0m\u001b[0mself\u001b[0m\u001b[0;34m,\u001b[0m \u001b[0mhook\u001b[0m\u001b[0;34m)\u001b[0m\u001b[0;34m:\u001b[0m\u001b[0;34m\u001b[0m\u001b[0;34m\u001b[0m\u001b[0m\n",
            "\u001b[0;32m/usr/local/lib/python3.7/dist-packages/torch/autograd/__init__.py\u001b[0m in \u001b[0;36mbackward\u001b[0;34m(tensors, grad_tensors, retain_graph, create_graph, grad_variables, inputs)\u001b[0m\n\u001b[1;32m    147\u001b[0m     Variable._execution_engine.run_backward(\n\u001b[1;32m    148\u001b[0m         \u001b[0mtensors\u001b[0m\u001b[0;34m,\u001b[0m \u001b[0mgrad_tensors_\u001b[0m\u001b[0;34m,\u001b[0m \u001b[0mretain_graph\u001b[0m\u001b[0;34m,\u001b[0m \u001b[0mcreate_graph\u001b[0m\u001b[0;34m,\u001b[0m \u001b[0minputs\u001b[0m\u001b[0;34m,\u001b[0m\u001b[0;34m\u001b[0m\u001b[0;34m\u001b[0m\u001b[0m\n\u001b[0;32m--> 149\u001b[0;31m         allow_unreachable=True, accumulate_grad=True)  # allow_unreachable flag\n\u001b[0m\u001b[1;32m    150\u001b[0m \u001b[0;34m\u001b[0m\u001b[0m\n\u001b[1;32m    151\u001b[0m \u001b[0;34m\u001b[0m\u001b[0m\n",
            "\u001b[0;31mKeyboardInterrupt\u001b[0m: "
          ]
        }
      ]
    },
    {
      "cell_type": "code",
      "metadata": {
        "id": "juaLxfTSYs_s"
      },
      "source": [
        "import matplotlib.pyplot as plt"
      ],
      "execution_count": 113,
      "outputs": []
    },
    {
      "cell_type": "code",
      "metadata": {
        "id": "czxWh-xxYs8G",
        "colab": {
          "base_uri": "https://localhost:8080/",
          "height": 282
        },
        "outputId": "b5d77121-52a3-4dea-f473-c8f0ec98e287"
      },
      "source": [
        "plt.plot(agent.reward_in_episode)"
      ],
      "execution_count": 118,
      "outputs": [
        {
          "output_type": "execute_result",
          "data": {
            "text/plain": [
              "[<matplotlib.lines.Line2D at 0x7fe0602d91d0>]"
            ]
          },
          "metadata": {},
          "execution_count": 118
        },
        {
          "output_type": "display_data",
          "data": {
            "image/png": "[encoded data removed]",
            "text/plain": [
              "<Figure size 432x288 with 1 Axes>"
            ]
          },
          "metadata": {
            "needs_background": "light"
          }
        }
      ]
    }
  ]
}